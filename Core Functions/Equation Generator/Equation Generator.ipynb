{
 "cells": [
  {
   "cell_type": "code",
   "execution_count": 7,
   "metadata": {},
   "outputs": [],
   "source": [
    "from brial import *"
   ]
  },
  {
   "cell_type": "code",
   "execution_count": 10,
   "metadata": {},
   "outputs": [],
   "source": [
    "def good_equation_generator(highest_degree, highest_terms, equations):\n",
    "    v = BooleanPolynomialVector()\n",
    "    l = [B.random_element(degree = highest_degree, terms = highest_terms) for _ in range(equations)]\n",
    "    _ = [v.append(e) for e in l]\n",
    "    output = []\n",
    "    seen = set()\n",
    "    for value in l:\n",
    "    # If value has not been encountered yet,\n",
    "    # ... add it to both list and set.\n",
    "        if value not in seen:\n",
    "            output.append(value)\n",
    "            seen.add(value)\n",
    "    return output\n",
    "    \n",
    "def make_system_of_equations_consistent(equation_list): \n",
    "    MS = MatrixSpace(GF(2), len(equation_list), 1)\n",
    "    matrix_answers = MS()\n",
    "    x_values = []\n",
    "    ans = []\n",
    "    for i in range(NUMBER_OF_VARIABLES):\n",
    "        value = GF(2).random_element()\n",
    "        x_values.append(value)\n",
    "    for f in equation_list:\n",
    "        answer = f(*x_values)\n",
    "        ans.append(answer)\n",
    "    for i in range(len(equation_list)):\n",
    "        matrix_answers[i,0] = ans[i]\n",
    "        equation_list[i] = equation_list[i] + ans[i]\n",
    "    return x_values, equation_list \n",
    "    \n",
    "def simple_equation_generator(eqn_degree, terms, equations):\n",
    "    Finished = False\n",
    "    while not Finished:\n",
    "        generated_equation_list = good_equation_generator(eqn_degree, terms, equations)\n",
    "        xvals, consistent_equation_list = make_system_of_equations_consistent(generated_equation_list)\n",
    "        if len(consistent_equation_list) == EQUATIONS:\n",
    "            Finished = True\n",
    "            return consistent_equation_list\n",
    "        if len(consistent_equation_list) != EQUATIONS:\n",
    "            simple_equation_generator(eqn_degree, terms, equations)\n",
    "            \n",
    "def show(equation_list):\n",
    "    for i in equation_list:\n",
    "        print i"
   ]
  },
  {
   "cell_type": "code",
   "execution_count": 11,
   "metadata": {},
   "outputs": [
    {
     "name": "stdout",
     "output_type": "stream",
     "text": [
      "x4*x8 + x0*x7 + x6 + x0 + 1\n",
      "x5*x6 + x2*x4 + x0*x2 + x3 + 1\n",
      "x7*x8 + x5*x9 + x1*x9 + x3\n",
      "x3*x8 + x1*x9 + x0*x5\n",
      "x6*x8 + x3*x5 + x1*x8 + x3\n",
      "x8*x9 + x4*x5 + x3*x7 + x1*x9\n",
      "x6*x9 + x5*x7 + x1*x9 + x0*x6 + 1\n",
      "x4*x8 + x4*x5 + x9 + x1 + 1\n",
      "x6*x8 + x2*x7 + x6 + x3\n",
      "x4*x9 + x3*x5 + x2*x7 + x1\n",
      "x5*x6 + x2*x3 + x0*x4 + x5\n",
      "x5*x6 + x2*x7 + x4 + x0\n",
      "x1*x7 + x1*x6 + x0*x4 + x0\n",
      "x6*x9 + x6*x7 + x2*x6 + x1*x6 + 1\n",
      "x7*x8 + x4*x8 + x3*x7 + x2*x5 + 1\n"
     ]
    }
   ],
   "source": [
    "NUMBER_OF_VARIABLES = 10\n",
    "B = BooleanPolynomialRing(NUMBER_OF_VARIABLES,'x', order = 'degneglex')\n",
    "MONOMIAL_DEGREE = 2\n",
    "EQUATION_DEGREE = 2\n",
    "EQUATIONS = int(1.5*NUMBER_OF_VARIABLES)\n",
    "CURRENT_DEGREE = 4\n",
    "BOUND_DEGREE = 4\n",
    "TERMS = 4\n",
    "\n",
    "equations = simple_equation_generator(EQUATION_DEGREE, TERMS, EQUATIONS)\n",
    "show(equations)"
   ]
  }
 ],
 "metadata": {
  "kernelspec": {
   "display_name": "SageMath 8.5",
   "language": "",
   "name": "sagemath"
  }
 },
 "nbformat": 4,
 "nbformat_minor": 2
}
